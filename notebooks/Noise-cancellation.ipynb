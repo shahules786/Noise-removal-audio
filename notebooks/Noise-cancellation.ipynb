{
 "cells": [
  {
   "cell_type": "code",
   "execution_count": 13,
   "id": "15732d11",
   "metadata": {},
   "outputs": [],
   "source": [
    "import numpy as np\n",
    "from scipy.io import wavfile\n",
    "from scipy.signal import fftconvolve\n",
    "import librosa\n"
   ]
  },
  {
   "cell_type": "code",
   "execution_count": 2,
   "id": "cb0934bf",
   "metadata": {},
   "outputs": [],
   "source": [
    "%config Completer.use_jedi = False"
   ]
  },
  {
   "cell_type": "code",
   "execution_count": null,
   "id": "764b28d9",
   "metadata": {},
   "outputs": [],
   "source": [
    "def remove_noise(audio_signal,noise_signal,std_away,n_grad_freq,n_grad_time,decrease_prop):\n",
    "    \n",
    "    \n",
    "    noise_stft = librosa.stft(noise_signal,n_fft=n_fft,hop_length=hop_length,win_length=win_length)\n",
    "    noise_stft_db = librosa.core.amplitude_to_db(noise_stft, ref=1.0, amin=1e-20, top_db=80.0)\n",
    "    mean_noise = np.mean(noise_stft,axis=1)\n",
    "    std_noise = np.mean(noise_stft,axis=1)\n",
    "    noise_thresh = mean_noise + std_away * std_noise\n",
    "    \n",
    "    audio_stft = librosa.stft(audio_signal,n_fft=n_fft,hop_length=hop_length,win_length=win_length)\n",
    "    audio_stft_db = librosa.core.amplitude_to_db(audio_stft, ref=1.0, amin=1e-20, top_db=80.0)\n",
    "    \n",
    "    noise_thresh_matrix = np.repeat(noise_thresh.reshape(1,-1),audio_stft.shape[1],axis=0).T\n",
    "    noise_mask = audio_stft > noise_thresh_matrix\n",
    "    \n",
    "    smoothing_filter = np.outer(\n",
    "        np.concatenate(\n",
    "            [\n",
    "                np.linspace(0, 1, n_grad_freq + 1, endpoint=False),\n",
    "                np.linspace(1, 0, n_grad_freq + 2),\n",
    "            ]\n",
    "        )[1:-1],\n",
    "        np.concatenate(\n",
    "            [\n",
    "                np.linspace(0, 1, n_grad_time + 1, endpoint=False),\n",
    "                np.linspace(1, 0, n_grad_time + 2),\n",
    "            ]\n",
    "        )[1:-1],\n",
    "    )\n",
    "    smoothing_filter = smoothing_filter / np.sum(smoothing_filter)\n",
    "    \n",
    "    smoothing_filter = fftconvolve(noise_mask,smoothing_filter) * decrease_prop\n",
    "    \n",
    "    cleaned_audio_real = np.abs(audio_stft_db) * (1-smoothing_filter)\n",
    "    cleaned_audio_img = np.imag(audio_signal) (1-smoothing_filter)\n",
    "    \n",
    "    cleaned_audio_stft = librosa.core.db_to_amplitude(cleaned_audio_real)*np.sign(audio_stft) + 1j * cleaned_audio_img\n",
    "    \n",
    "    cleaned_audio = librosa.istft(cleaned_audio_stft,hop_length=hop_length,win_length=win_length)\n",
    "\n",
    "    return cleaned_audio\n",
    "    \n",
    "    \n",
    "    \n",
    "    \n",
    "    \n",
    "    \n",
    "    \n",
    "    \n",
    "    \n",
    "    \n",
    "    \n",
    "    \n",
    "    \n",
    "    \n",
    "    \n",
    "    "
   ]
  }
 ],
 "metadata": {
  "kernelspec": {
   "display_name": "Python 3.6.13 64-bit ('audiobasics': conda)",
   "language": "python",
   "name": "python3613jvsc74a57bd0535b1b2bc080c0c0123efdaa5dbd976d08c7063ff653b29a5385fbb5581d7f0a"
  },
  "language_info": {
   "codemirror_mode": {
    "name": "ipython",
    "version": 3
   },
   "file_extension": ".py",
   "mimetype": "text/x-python",
   "name": "python",
   "nbconvert_exporter": "python",
   "pygments_lexer": "ipython3",
   "version": "3.6.13"
  }
 },
 "nbformat": 4,
 "nbformat_minor": 5
}
