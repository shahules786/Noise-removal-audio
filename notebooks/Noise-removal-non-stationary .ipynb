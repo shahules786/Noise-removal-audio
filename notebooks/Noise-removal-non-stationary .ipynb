{
 "cells": [
  {
   "cell_type": "code",
   "execution_count": 1,
   "id": "d7570242",
   "metadata": {},
   "outputs": [
    {
     "name": "stderr",
     "output_type": "stream",
     "text": [
      "/opt/anaconda3/envs/audiobasics/lib/python3.6/importlib/_bootstrap.py:219: RuntimeWarning: numpy.ufunc size changed, may indicate binary incompatibility. Expected 192 from C header, got 216 from PyObject\n",
      "  return f(*args, **kwds)\n",
      "/opt/anaconda3/envs/audiobasics/lib/python3.6/importlib/_bootstrap.py:219: RuntimeWarning: numpy.ufunc size changed, may indicate binary incompatibility. Expected 192 from C header, got 216 from PyObject\n",
      "  return f(*args, **kwds)\n",
      "/opt/anaconda3/envs/audiobasics/lib/python3.6/importlib/_bootstrap.py:219: RuntimeWarning: numpy.ufunc size changed, may indicate binary incompatibility. Expected 192 from C header, got 216 from PyObject\n",
      "  return f(*args, **kwds)\n"
     ]
    }
   ],
   "source": [
    "import numpy as np\n",
    "import librosa\n",
    "from scipy.io import wavfile\n",
    "from IPython.display import Audio\n",
    "import matplotlib.pyplot as plt\n",
    "from scipy.signal import fftconvolve"
   ]
  },
  {
   "cell_type": "code",
   "execution_count": 61,
   "id": "f5e37b7d",
   "metadata": {},
   "outputs": [],
   "source": [
    "%config Completer.use_jedi = False\n"
   ]
  },
  {
   "cell_type": "code",
   "execution_count": 60,
   "id": "ec85871f",
   "metadata": {},
   "outputs": [],
   "source": [
    "##copied\n",
    "def get_time_smoothed_representation(\n",
    "    spectral, samplerate, hop_length, time_constant_s=0.001\n",
    "):\n",
    "    t_frames = time_constant_s * samplerate / float(hop_length)\n",
    "    # By default, this solves the equation for b:\n",
    "    #   b**2  + (1 - b) / t_frames  - 2 = 0\n",
    "    # which approximates the full-width half-max of the\n",
    "    # squared frequency response of the IIR low-pass filt\n",
    "    b = (np.sqrt(1 + 4 * t_frames ** 2) - 1) / (2 * t_frames ** 2)\n",
    "    return filtfilt([b], [1, b - 1], spectral, axis=-1, padtype=None)\n",
    "\n",
    "def sigmoid(x,shift,mult):\n",
    "    \n",
    "    return 1/(1+np.exp(-(x+shift)*mult))\n",
    "\n"
   ]
  },
  {
   "cell_type": "code",
   "execution_count": null,
   "id": "bd45ec2a",
   "metadata": {},
   "outputs": [],
   "source": [
    "def remove_nonstationary_noise(audio):\n",
    "    \n",
    "    audio_stft = librosa.stft(audio,n_fft=n_fft,win_length=win_length,hop_length=hop_length)\n",
    "    audio_stft_abs = np.abs(audio_stft)\n",
    "    \n",
    "    audio_time_smoothed = get_time_smoothed_representation(audio,sr,hop_length)\n",
    "    \n",
    "    audio_mask = (audio_stft_abs - audio_time_smoothed)/audio_time_smoothed\n",
    "    audio_mask = sigmoid(audio_mask,shift,mult)\n",
    "    \n",
    "    smoothing_filter = np.outer(\n",
    "        np.concatenate(\n",
    "            [\n",
    "                np.linspace(0, 1, n_grad_freq + 1, endpoint=False),\n",
    "                np.linspace(1, 0, n_grad_freq + 2),\n",
    "            ]\n",
    "        )[1:-1],\n",
    "        np.concatenate(\n",
    "            [\n",
    "                np.linspace(0, 1, n_grad_time + 1, endpoint=False),\n",
    "                np.linspace(1, 0, n_grad_time + 2),\n",
    "            ]\n",
    "        )[1:-1],\n",
    "    )\n",
    "    \n",
    "    audio_mask = fftconvolve(audio_mask,smoothing_filter,mode='same')\n",
    "    audio_mask = audio_mask * prop_decrease + np.ones(audio_mask.shape) * (1-prop_decrease)\n",
    "    \n",
    "    denoised_audio_stft = audio_stft * audio_mask\n",
    "    \n",
    "    return librosa.istft(denoised_audio_stft,win_length=win_length,hop_length=hop_length)\n",
    "    \n",
    "    "
   ]
  }
 ],
 "metadata": {
  "kernelspec": {
   "display_name": "Python 3.6.13 64-bit ('audiobasics': conda)",
   "language": "python",
   "name": "python3613jvsc74a57bd0535b1b2bc080c0c0123efdaa5dbd976d08c7063ff653b29a5385fbb5581d7f0a"
  },
  "language_info": {
   "codemirror_mode": {
    "name": "ipython",
    "version": 3
   },
   "file_extension": ".py",
   "mimetype": "text/x-python",
   "name": "python",
   "nbconvert_exporter": "python",
   "pygments_lexer": "ipython3",
   "version": "3.6.13"
  }
 },
 "nbformat": 4,
 "nbformat_minor": 5
}
